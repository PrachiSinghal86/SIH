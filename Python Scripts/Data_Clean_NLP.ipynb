{
  "nbformat": 4,
  "nbformat_minor": 0,
  "metadata": {
    "colab": {
      "name": "Data Clean NLP.ipynb",
      "provenance": []
    },
    "kernelspec": {
      "name": "python3",
      "display_name": "Python 3"
    },
    "accelerator": "GPU"
  },
  "cells": [
    {
      "cell_type": "code",
      "metadata": {
        "id": "nC7tnd-9jkI4",
        "colab_type": "code",
        "colab": {}
      },
      "source": [
        "#warnings :)\n",
        "import warnings\n",
        "warnings.filterwarnings('ignore')"
      ],
      "execution_count": 1,
      "outputs": []
    },
    {
      "cell_type": "code",
      "metadata": {
        "id": "tFaL0pzOjnkd",
        "colab_type": "code",
        "colab": {}
      },
      "source": [
        "#Creating bunch of sentences\n",
        "raw_docs = [\"We are looking for Full Stack Software Engineers who are extremely passionate about front end and backend software development. We provide transparent and exponential career growth opportunities purely based on skills.Base location will be Bangalore with work from home option.SKILLS Be a quick learner, undaunted by complex systems Take risks and thrive in an environment of constant changeAbility to understand existing complex code and build new features on top of it. Ability to apply latest software design methodologies - design patterns, whitebox / blackbox tests, static/dynamic code analysis, ensuring pragmatic, clean and sustainable code implementations TECHNICAL SKILLS Full stack web and mobile application development experience. Strong understanding of JavaScript-based frontend frameworks like Angular. Strong programming skills and expertise in Java, Spring and Hibernate Experience with REST APIâ€™s, Web Services, Unit Testing and build tools Good understanding and hands-on experience with databases, such as MySQL / Oracle Job Type: Full-time Salary: â‚¹300,000.00 to â‚¹400,000.00 /year Experience: Angular: 1 year (Preferred) Java: 1 year (Preferred)\"]"
      ],
      "execution_count": 3,
      "outputs": []
    },
    {
      "cell_type": "code",
      "metadata": {
        "id": "7dPiB7eijqgi",
        "colab_type": "code",
        "colab": {}
      },
      "source": [
        "import nltk"
      ],
      "execution_count": 5,
      "outputs": []
    },
    {
      "cell_type": "code",
      "metadata": {
        "id": "UK7ImtC6kJ_Y",
        "colab_type": "code",
        "colab": {
          "base_uri": "https://localhost:8080/",
          "height": 54
        },
        "outputId": "9c0430a4-3212-4f5e-f075-8d5cd0283012"
      },
      "source": [
        "import string\n",
        "raw_docs = [doc.lower() for doc in raw_docs]\n",
        "print(raw_docs)"
      ],
      "execution_count": 6,
      "outputs": [
        {
          "output_type": "stream",
          "text": [
            "['we are looking for full stack software engineers who are extremely passionate about front end and backend software development. we provide transparent and exponential career growth opportunities purely based on skills.base location will be bangalore with work from home option.skills be a quick learner, undaunted by complex systems take risks and thrive in an environment of constant changeability to understand existing complex code and build new features on top of it. ability to apply latest software design methodologies - design patterns, whitebox / blackbox tests, static/dynamic code analysis, ensuring pragmatic, clean and sustainable code implementations technical skills full stack web and mobile application development experience. strong understanding of javascript-based frontend frameworks like angular. strong programming skills and expertise in java, spring and hibernate experience with rest apiâ€™s, web services, unit testing and build tools good understanding and hands-on experience with databases, such as mysql / oracle job type: full-time salary: â‚¹300,000.00 to â‚¹400,000.00 /year experience: angular: 1 year (preferred) java: 1 year (preferred)']\n"
          ],
          "name": "stdout"
        }
      ]
    },
    {
      "cell_type": "code",
      "metadata": {
        "id": "CZmXbR6xo0l2",
        "colab_type": "code",
        "colab": {
          "base_uri": "https://localhost:8080/",
          "height": 68
        },
        "outputId": "8e0cf139-0b9f-4e6c-95ff-572c4d02e2bb"
      },
      "source": [
        "nltk.download('punkt')"
      ],
      "execution_count": 8,
      "outputs": [
        {
          "output_type": "stream",
          "text": [
            "[nltk_data] Downloading package punkt to /root/nltk_data...\n",
            "[nltk_data]   Unzipping tokenizers/punkt.zip.\n"
          ],
          "name": "stderr"
        },
        {
          "output_type": "execute_result",
          "data": {
            "text/plain": [
              "True"
            ]
          },
          "metadata": {
            "tags": []
          },
          "execution_count": 8
        }
      ]
    },
    {
      "cell_type": "code",
      "metadata": {
        "id": "eRtBUucdkRZf",
        "colab_type": "code",
        "colab": {
          "base_uri": "https://localhost:8080/",
          "height": 88
        },
        "outputId": "034e430d-c6a9-4f29-9391-153dac65966a"
      },
      "source": [
        "# word tokenize\n",
        "from nltk.tokenize import word_tokenize\n",
        "tokenized_docs = [word_tokenize(doc) for doc in raw_docs]\n",
        "print(tokenized_docs)\n",
        "\n",
        "print(\"#######################################################################################\")\n",
        "\n",
        "#Sentence tokenization\n",
        "\n",
        "from nltk.tokenize import sent_tokenize\n",
        "sent_token = [sent_tokenize(doc) for doc in raw_docs]\n",
        "print(sent_token)"
      ],
      "execution_count": 9,
      "outputs": [
        {
          "output_type": "stream",
          "text": [
            "[['we', 'are', 'looking', 'for', 'full', 'stack', 'software', 'engineers', 'who', 'are', 'extremely', 'passionate', 'about', 'front', 'end', 'and', 'backend', 'software', 'development', '.', 'we', 'provide', 'transparent', 'and', 'exponential', 'career', 'growth', 'opportunities', 'purely', 'based', 'on', 'skills.base', 'location', 'will', 'be', 'bangalore', 'with', 'work', 'from', 'home', 'option.skills', 'be', 'a', 'quick', 'learner', ',', 'undaunted', 'by', 'complex', 'systems', 'take', 'risks', 'and', 'thrive', 'in', 'an', 'environment', 'of', 'constant', 'changeability', 'to', 'understand', 'existing', 'complex', 'code', 'and', 'build', 'new', 'features', 'on', 'top', 'of', 'it', '.', 'ability', 'to', 'apply', 'latest', 'software', 'design', 'methodologies', '-', 'design', 'patterns', ',', 'whitebox', '/', 'blackbox', 'tests', ',', 'static/dynamic', 'code', 'analysis', ',', 'ensuring', 'pragmatic', ',', 'clean', 'and', 'sustainable', 'code', 'implementations', 'technical', 'skills', 'full', 'stack', 'web', 'and', 'mobile', 'application', 'development', 'experience', '.', 'strong', 'understanding', 'of', 'javascript-based', 'frontend', 'frameworks', 'like', 'angular', '.', 'strong', 'programming', 'skills', 'and', 'expertise', 'in', 'java', ',', 'spring', 'and', 'hibernate', 'experience', 'with', 'rest', 'apiâ€™s', ',', 'web', 'services', ',', 'unit', 'testing', 'and', 'build', 'tools', 'good', 'understanding', 'and', 'hands-on', 'experience', 'with', 'databases', ',', 'such', 'as', 'mysql', '/', 'oracle', 'job', 'type', ':', 'full-time', 'salary', ':', 'â‚¹300,000.00', 'to', 'â‚¹400,000.00', '/year', 'experience', ':', 'angular', ':', '1', 'year', '(', 'preferred', ')', 'java', ':', '1', 'year', '(', 'preferred', ')']]\n",
            "#######################################################################################\n",
            "[['we are looking for full stack software engineers who are extremely passionate about front end and backend software development.', 'we provide transparent and exponential career growth opportunities purely based on skills.base location will be bangalore with work from home option.skills be a quick learner, undaunted by complex systems take risks and thrive in an environment of constant changeability to understand existing complex code and build new features on top of it.', 'ability to apply latest software design methodologies - design patterns, whitebox / blackbox tests, static/dynamic code analysis, ensuring pragmatic, clean and sustainable code implementations technical skills full stack web and mobile application development experience.', 'strong understanding of javascript-based frontend frameworks like angular.', 'strong programming skills and expertise in java, spring and hibernate experience with rest apiâ€™s, web services, unit testing and build tools good understanding and hands-on experience with databases, such as mysql / oracle job type: full-time salary: â‚¹300,000.00 to â‚¹400,000.00 /year experience: angular: 1 year (preferred) java: 1 year (preferred)']]\n"
          ],
          "name": "stdout"
        }
      ]
    },
    {
      "cell_type": "code",
      "metadata": {
        "id": "446fUznukfmT",
        "colab_type": "code",
        "colab": {
          "base_uri": "https://localhost:8080/",
          "height": 54
        },
        "outputId": "ef06c30b-3115-40fe-a0f9-9da296ef26a4"
      },
      "source": [
        "# Removing punctuation\n",
        "import re\n",
        "regex = re.compile('[%s]' % re.escape(string.punctuation)) #see documentation here: http://docs.python.org/2/library/string.html\n",
        "\n",
        "tokenized_docs_no_punctuation = []\n",
        "\n",
        "for review in tokenized_docs:\n",
        "    new_review = []\n",
        "    for token in review:\n",
        "        new_token = regex.sub(u'', token)\n",
        "        if not new_token == u'':\n",
        "            new_review.append(new_token)\n",
        "    \n",
        "    tokenized_docs_no_punctuation.append(new_review)\n",
        "    \n",
        "print(tokenized_docs_no_punctuation)"
      ],
      "execution_count": 10,
      "outputs": [
        {
          "output_type": "stream",
          "text": [
            "[['we', 'are', 'looking', 'for', 'full', 'stack', 'software', 'engineers', 'who', 'are', 'extremely', 'passionate', 'about', 'front', 'end', 'and', 'backend', 'software', 'development', 'we', 'provide', 'transparent', 'and', 'exponential', 'career', 'growth', 'opportunities', 'purely', 'based', 'on', 'skillsbase', 'location', 'will', 'be', 'bangalore', 'with', 'work', 'from', 'home', 'optionskills', 'be', 'a', 'quick', 'learner', 'undaunted', 'by', 'complex', 'systems', 'take', 'risks', 'and', 'thrive', 'in', 'an', 'environment', 'of', 'constant', 'changeability', 'to', 'understand', 'existing', 'complex', 'code', 'and', 'build', 'new', 'features', 'on', 'top', 'of', 'it', 'ability', 'to', 'apply', 'latest', 'software', 'design', 'methodologies', 'design', 'patterns', 'whitebox', 'blackbox', 'tests', 'staticdynamic', 'code', 'analysis', 'ensuring', 'pragmatic', 'clean', 'and', 'sustainable', 'code', 'implementations', 'technical', 'skills', 'full', 'stack', 'web', 'and', 'mobile', 'application', 'development', 'experience', 'strong', 'understanding', 'of', 'javascriptbased', 'frontend', 'frameworks', 'like', 'angular', 'strong', 'programming', 'skills', 'and', 'expertise', 'in', 'java', 'spring', 'and', 'hibernate', 'experience', 'with', 'rest', 'apiâ€™s', 'web', 'services', 'unit', 'testing', 'and', 'build', 'tools', 'good', 'understanding', 'and', 'handson', 'experience', 'with', 'databases', 'such', 'as', 'mysql', 'oracle', 'job', 'type', 'fulltime', 'salary', 'â‚¹30000000', 'to', 'â‚¹40000000', 'year', 'experience', 'angular', '1', 'year', 'preferred', 'java', '1', 'year', 'preferred']]\n"
          ],
          "name": "stdout"
        }
      ]
    },
    {
      "cell_type": "code",
      "metadata": {
        "id": "OPvYv1S9o-KB",
        "colab_type": "code",
        "colab": {
          "base_uri": "https://localhost:8080/",
          "height": 68
        },
        "outputId": "78badcd1-606e-4988-c10e-2052fe2a6c21"
      },
      "source": [
        "nltk.download('stopwords')"
      ],
      "execution_count": 11,
      "outputs": [
        {
          "output_type": "stream",
          "text": [
            "[nltk_data] Downloading package stopwords to /root/nltk_data...\n",
            "[nltk_data]   Unzipping corpora/stopwords.zip.\n"
          ],
          "name": "stderr"
        },
        {
          "output_type": "execute_result",
          "data": {
            "text/plain": [
              "True"
            ]
          },
          "metadata": {
            "tags": []
          },
          "execution_count": 11
        }
      ]
    },
    {
      "cell_type": "code",
      "metadata": {
        "id": "K2u47Oi1kmrQ",
        "colab_type": "code",
        "colab": {
          "base_uri": "https://localhost:8080/",
          "height": 54
        },
        "outputId": "9bcfe799-46c2-40d2-ceab-35c58140881f"
      },
      "source": [
        "from nltk.corpus import stopwords\n",
        "\n",
        "tokenized_docs_no_stopwords = []\n",
        "\n",
        "for doc in tokenized_docs_no_punctuation:\n",
        "    new_term_vector = []\n",
        "    for word in doc:\n",
        "        if not word in stopwords.words('english'):\n",
        "            new_term_vector.append(word)\n",
        "    \n",
        "    tokenized_docs_no_stopwords.append(new_term_vector)\n",
        "\n",
        "print(tokenized_docs_no_stopwords)"
      ],
      "execution_count": 12,
      "outputs": [
        {
          "output_type": "stream",
          "text": [
            "[['looking', 'full', 'stack', 'software', 'engineers', 'extremely', 'passionate', 'front', 'end', 'backend', 'software', 'development', 'provide', 'transparent', 'exponential', 'career', 'growth', 'opportunities', 'purely', 'based', 'skillsbase', 'location', 'bangalore', 'work', 'home', 'optionskills', 'quick', 'learner', 'undaunted', 'complex', 'systems', 'take', 'risks', 'thrive', 'environment', 'constant', 'changeability', 'understand', 'existing', 'complex', 'code', 'build', 'new', 'features', 'top', 'ability', 'apply', 'latest', 'software', 'design', 'methodologies', 'design', 'patterns', 'whitebox', 'blackbox', 'tests', 'staticdynamic', 'code', 'analysis', 'ensuring', 'pragmatic', 'clean', 'sustainable', 'code', 'implementations', 'technical', 'skills', 'full', 'stack', 'web', 'mobile', 'application', 'development', 'experience', 'strong', 'understanding', 'javascriptbased', 'frontend', 'frameworks', 'like', 'angular', 'strong', 'programming', 'skills', 'expertise', 'java', 'spring', 'hibernate', 'experience', 'rest', 'apiâ€™s', 'web', 'services', 'unit', 'testing', 'build', 'tools', 'good', 'understanding', 'handson', 'experience', 'databases', 'mysql', 'oracle', 'job', 'type', 'fulltime', 'salary', 'â‚¹30000000', 'â‚¹40000000', 'year', 'experience', 'angular', '1', 'year', 'preferred', 'java', '1', 'year', 'preferred']]\n"
          ],
          "name": "stdout"
        }
      ]
    },
    {
      "cell_type": "code",
      "metadata": {
        "id": "oqc2uupOpGCg",
        "colab_type": "code",
        "colab": {
          "base_uri": "https://localhost:8080/",
          "height": 68
        },
        "outputId": "4509b841-3ffd-4f58-95cf-70f11e228261"
      },
      "source": [
        "nltk.download('wordnet')"
      ],
      "execution_count": 13,
      "outputs": [
        {
          "output_type": "stream",
          "text": [
            "[nltk_data] Downloading package wordnet to /root/nltk_data...\n",
            "[nltk_data]   Unzipping corpora/wordnet.zip.\n"
          ],
          "name": "stderr"
        },
        {
          "output_type": "execute_result",
          "data": {
            "text/plain": [
              "True"
            ]
          },
          "metadata": {
            "tags": []
          },
          "execution_count": 13
        }
      ]
    },
    {
      "cell_type": "code",
      "metadata": {
        "id": "0HmKfUp3kqRk",
        "colab_type": "code",
        "colab": {
          "base_uri": "https://localhost:8080/",
          "height": 54
        },
        "outputId": "45b06786-6166-4f98-d61e-79e02dce3253"
      },
      "source": [
        "# Stemming and Lemmatization\n",
        "from nltk.stem.porter import PorterStemmer\n",
        "from nltk.stem.wordnet import WordNetLemmatizer\n",
        "\n",
        "porter = PorterStemmer()\n",
        "wordnet = WordNetLemmatizer()\n",
        "\n",
        "preprocessed_docs = []\n",
        "\n",
        "for doc in tokenized_docs_no_stopwords:\n",
        "    final_doc = []\n",
        "    for word in doc:\n",
        "        #final_doc.append(porter.stem(word))\n",
        "        final_doc.append(wordnet.lemmatize(word))\n",
        "    \n",
        "    preprocessed_docs.append(final_doc)\n",
        "\n",
        "print(preprocessed_docs)"
      ],
      "execution_count": 14,
      "outputs": [
        {
          "output_type": "stream",
          "text": [
            "[['looking', 'full', 'stack', 'software', 'engineer', 'extremely', 'passionate', 'front', 'end', 'backend', 'software', 'development', 'provide', 'transparent', 'exponential', 'career', 'growth', 'opportunity', 'purely', 'based', 'skillsbase', 'location', 'bangalore', 'work', 'home', 'optionskills', 'quick', 'learner', 'undaunted', 'complex', 'system', 'take', 'risk', 'thrive', 'environment', 'constant', 'changeability', 'understand', 'existing', 'complex', 'code', 'build', 'new', 'feature', 'top', 'ability', 'apply', 'latest', 'software', 'design', 'methodology', 'design', 'pattern', 'whitebox', 'blackbox', 'test', 'staticdynamic', 'code', 'analysis', 'ensuring', 'pragmatic', 'clean', 'sustainable', 'code', 'implementation', 'technical', 'skill', 'full', 'stack', 'web', 'mobile', 'application', 'development', 'experience', 'strong', 'understanding', 'javascriptbased', 'frontend', 'framework', 'like', 'angular', 'strong', 'programming', 'skill', 'expertise', 'java', 'spring', 'hibernate', 'experience', 'rest', 'apiâ€™s', 'web', 'service', 'unit', 'testing', 'build', 'tool', 'good', 'understanding', 'handson', 'experience', 'database', 'mysql', 'oracle', 'job', 'type', 'fulltime', 'salary', 'â‚¹30000000', 'â‚¹40000000', 'year', 'experience', 'angular', '1', 'year', 'preferred', 'java', '1', 'year', 'preferred']]\n"
          ],
          "name": "stdout"
        }
      ]
    },
    {
      "cell_type": "code",
      "metadata": {
        "id": "qMaN70eRpWzS",
        "colab_type": "code",
        "colab": {
          "base_uri": "https://localhost:8080/",
          "height": 137
        },
        "outputId": "13273c26-c5fc-4092-a648-664deb5202df"
      },
      "source": [
        "s = ' '\n",
        "\n",
        "s.join(preprocessed_docs[0])"
      ],
      "execution_count": 15,
      "outputs": [
        {
          "output_type": "execute_result",
          "data": {
            "application/vnd.google.colaboratory.intrinsic": {
              "type": "string"
            },
            "text/plain": [
              "'looking full stack software engineer extremely passionate front end backend software development provide transparent exponential career growth opportunity purely based skillsbase location bangalore work home optionskills quick learner undaunted complex system take risk thrive environment constant changeability understand existing complex code build new feature top ability apply latest software design methodology design pattern whitebox blackbox test staticdynamic code analysis ensuring pragmatic clean sustainable code implementation technical skill full stack web mobile application development experience strong understanding javascriptbased frontend framework like angular strong programming skill expertise java spring hibernate experience rest apiâ€™s web service unit testing build tool good understanding handson experience database mysql oracle job type fulltime salary â‚¹30000000 â‚¹40000000 year experience angular 1 year preferred java 1 year preferred'"
            ]
          },
          "metadata": {
            "tags": []
          },
          "execution_count": 15
        }
      ]
    },
    {
      "cell_type": "code",
      "metadata": {
        "id": "BD1RHzeHZFho",
        "colab_type": "code",
        "colab": {
          "base_uri": "https://localhost:8080/",
          "height": 120
        },
        "outputId": "9c737a0c-2a1e-494c-baec-8fe3e57b4319"
      },
      "source": [
        "\n",
        "\" \".join(filter(lambda x:x[0]!='â', preprocessed_docs[0]))\n"
      ],
      "execution_count": 22,
      "outputs": [
        {
          "output_type": "execute_result",
          "data": {
            "application/vnd.google.colaboratory.intrinsic": {
              "type": "string"
            },
            "text/plain": [
              "'looking full stack software engineer extremely passionate front end backend software development provide transparent exponential career growth opportunity purely based skillsbase location bangalore work home optionskills quick learner undaunted complex system take risk thrive environment constant changeability understand existing complex code build new feature top ability apply latest software design methodology design pattern whitebox blackbox test staticdynamic code analysis ensuring pragmatic clean sustainable code implementation technical skill full stack web mobile application development experience strong understanding javascriptbased frontend framework like angular strong programming skill expertise java spring hibernate experience rest apiâ€™s web service unit testing build tool good understanding handson experience database mysql oracle job type fulltime salary year experience angular 1 year preferred java 1 year preferred'"
            ]
          },
          "metadata": {
            "tags": []
          },
          "execution_count": 22
        }
      ]
    }
  ]
}